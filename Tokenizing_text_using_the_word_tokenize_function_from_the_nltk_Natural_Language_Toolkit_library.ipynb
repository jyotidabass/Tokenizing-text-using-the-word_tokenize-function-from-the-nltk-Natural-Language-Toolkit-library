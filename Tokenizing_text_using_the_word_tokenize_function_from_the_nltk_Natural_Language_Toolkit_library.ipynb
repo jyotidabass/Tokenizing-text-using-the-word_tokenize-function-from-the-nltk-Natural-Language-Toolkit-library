{
  "nbformat": 4,
  "nbformat_minor": 0,
  "metadata": {
    "colab": {
      "provenance": [],
      "authorship_tag": "ABX9TyPvXa7e3QEL4InTOKsENA2n",
      "include_colab_link": true
    },
    "kernelspec": {
      "name": "python3",
      "display_name": "Python 3"
    },
    "language_info": {
      "name": "python"
    }
  },
  "cells": [
    {
      "cell_type": "markdown",
      "metadata": {
        "id": "view-in-github",
        "colab_type": "text"
      },
      "source": [
        "<a href=\"https://colab.research.google.com/github/jyotidabass/Tokenizing-text-using-the-word_tokenize-function-from-the-nltk-Natural-Language-Toolkit-library/blob/main/Tokenizing_text_using_the_word_tokenize_function_from_the_nltk_Natural_Language_Toolkit_library.ipynb\" target=\"_parent\"><img src=\"https://colab.research.google.com/assets/colab-badge.svg\" alt=\"Open In Colab\"/></a>"
      ]
    },
    {
      "cell_type": "markdown",
      "source": [
        "In this, we will discuss simple Python code for tokenizing text using the word_tokenize function from the nltk (Natural Language Toolkit) library in Google Colab:\n",
        "\n",
        "# First, you need to install and import the nltk library:"
      ],
      "metadata": {
        "id": "JjJ27aA0RJ2T"
      }
    },
    {
      "cell_type": "code",
      "execution_count": 1,
      "metadata": {
        "colab": {
          "base_uri": "https://localhost:8080/"
        },
        "id": "TVJp2HosPP8i",
        "outputId": "659a8ea2-2573-42fc-e262-576e4aadbbc1"
      },
      "outputs": [
        {
          "output_type": "stream",
          "name": "stdout",
          "text": [
            "Requirement already satisfied: nltk in /usr/local/lib/python3.10/dist-packages (3.8.1)\n",
            "Requirement already satisfied: click in /usr/local/lib/python3.10/dist-packages (from nltk) (8.1.7)\n",
            "Requirement already satisfied: joblib in /usr/local/lib/python3.10/dist-packages (from nltk) (1.4.2)\n",
            "Requirement already satisfied: regex>=2021.8.3 in /usr/local/lib/python3.10/dist-packages (from nltk) (2024.9.11)\n",
            "Requirement already satisfied: tqdm in /usr/local/lib/python3.10/dist-packages (from nltk) (4.66.5)\n"
          ]
        },
        {
          "output_type": "stream",
          "name": "stderr",
          "text": [
            "[nltk_data] Downloading package punkt to /root/nltk_data...\n",
            "[nltk_data]   Unzipping tokenizers/punkt.zip.\n",
            "[nltk_data] Downloading package averaged_perceptron_tagger to\n",
            "[nltk_data]     /root/nltk_data...\n",
            "[nltk_data]   Unzipping taggers/averaged_perceptron_tagger.zip.\n",
            "[nltk_data] Error loading max_ent_ne_chunker: Package\n",
            "[nltk_data]     'max_ent_ne_chunker' not found in index\n",
            "[nltk_data] Downloading package words to /root/nltk_data...\n",
            "[nltk_data]   Unzipping corpora/words.zip.\n",
            "[nltk_data] Downloading package punkt to /root/nltk_data...\n",
            "[nltk_data]   Package punkt is already up-to-date!\n"
          ]
        },
        {
          "output_type": "execute_result",
          "data": {
            "text/plain": [
              "True"
            ]
          },
          "metadata": {},
          "execution_count": 1
        }
      ],
      "source": [
        "!pip install nltk\n",
        "import nltk\n",
        "nltk.download('punkt')\n",
        "nltk.download('averaged_perceptron_tagger')\n",
        "nltk.download('max_ent_ne_chunker')\n",
        "nltk.download('words')\n",
        "\n",
        "nltk.download('punkt')"
      ]
    },
    {
      "cell_type": "markdown",
      "source": [
        "# Now, you can tokenize your text using the word_tokenize function.\n",
        "\n",
        "This code will tokenize the example text into individual words."
      ],
      "metadata": {
        "id": "KMP6ISQ5RUtn"
      }
    },
    {
      "cell_type": "code",
      "source": [
        "from nltk.tokenize import word_tokenize\n",
        "\n",
        "# Example text to tokenize\n",
        "text = \"Hello, my name is John. I love playing tennis.\"\n",
        "\n",
        "# Tokenize the text into words\n",
        "tokens = word_tokenize(text)\n",
        "\n",
        "# Print the tokenized words\n",
        "print(tokens)"
      ],
      "metadata": {
        "colab": {
          "base_uri": "https://localhost:8080/"
        },
        "id": "EdMorYZLPaKa",
        "outputId": "5c2c371e-260f-4af1-d045-792b484c6436"
      },
      "execution_count": 2,
      "outputs": [
        {
          "output_type": "stream",
          "name": "stdout",
          "text": [
            "['Hello', ',', 'my', 'name', 'is', 'John', '.', 'I', 'love', 'playing', 'tennis', '.']\n"
          ]
        }
      ]
    }
  ]
}